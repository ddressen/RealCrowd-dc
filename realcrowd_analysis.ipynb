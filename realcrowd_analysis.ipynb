{
 "cells": [
  {
   "cell_type": "markdown",
   "metadata": {},
   "source": [
    "## Data Challenge: RealCrowd risk of loss model\n",
    "\n",
    "Goal: Clean and analyze select CMBS data from issuer BACM"
   ]
  },
  {
   "cell_type": "code",
   "execution_count": 191,
   "metadata": {},
   "outputs": [],
   "source": [
    "# Imports for data analysis and visualization\n",
    "\n",
    "import pandas as pd\n",
    "import numpy as np\n",
    "import seaborn as sns\n",
    "from collections import Counter\n",
    "import matplotlib.pyplot as plt\n",
    "%matplotlib inline"
   ]
  },
  {
   "cell_type": "code",
   "execution_count": 196,
   "metadata": {},
   "outputs": [],
   "source": [
    "# Import model data from csv file\n",
    "\n",
    "file = 'model_data'\n",
    "parse_dates = ['NoteDate', 'MaturityDate']\n",
    "\n",
    "model_df = pd.read_csv(file, parse_dates=parse_dates)"
   ]
  },
  {
   "cell_type": "code",
   "execution_count": 197,
   "metadata": {},
   "outputs": [
    {
     "data": {
      "text/html": [
       "<div>\n",
       "<style>\n",
       "    .dataframe thead tr:only-child th {\n",
       "        text-align: right;\n",
       "    }\n",
       "\n",
       "    .dataframe thead th {\n",
       "        text-align: left;\n",
       "    }\n",
       "\n",
       "    .dataframe tbody tr th {\n",
       "        vertical-align: top;\n",
       "    }\n",
       "</style>\n",
       "<table border=\"1\" class=\"dataframe\">\n",
       "  <thead>\n",
       "    <tr style=\"text-align: right;\">\n",
       "      <th></th>\n",
       "      <th>Unnamed: 0</th>\n",
       "      <th>LoanNumber</th>\n",
       "      <th>ZipCode</th>\n",
       "      <th>PropertyType</th>\n",
       "      <th>OccupancyPercent</th>\n",
       "      <th>NoteDate</th>\n",
       "      <th>MaturityDate</th>\n",
       "      <th>AppraisalValue</th>\n",
       "      <th>MostRecentNOI</th>\n",
       "      <th>FullYearNOI</th>\n",
       "      <th>U/WDSCR</th>\n",
       "      <th>CutoffDateLTVRatio</th>\n",
       "    </tr>\n",
       "  </thead>\n",
       "  <tbody>\n",
       "    <tr>\n",
       "      <th>0</th>\n",
       "      <td>0</td>\n",
       "      <td>57797</td>\n",
       "      <td>92056</td>\n",
       "      <td>Multifamily</td>\n",
       "      <td>0.9583</td>\n",
       "      <td>2004-02-09</td>\n",
       "      <td>2009-03-01</td>\n",
       "      <td>27700000</td>\n",
       "      <td>1932728.00</td>\n",
       "      <td>1520275.0</td>\n",
       "      <td>1.286974</td>\n",
       "      <td>0.721225</td>\n",
       "    </tr>\n",
       "    <tr>\n",
       "      <th>1</th>\n",
       "      <td>1</td>\n",
       "      <td>6120</td>\n",
       "      <td>64154</td>\n",
       "      <td>Multifamily</td>\n",
       "      <td>0.8971</td>\n",
       "      <td>2003-11-10</td>\n",
       "      <td>2013-12-01</td>\n",
       "      <td>26290000</td>\n",
       "      <td>1280936.79</td>\n",
       "      <td>NaN</td>\n",
       "      <td>1.315628</td>\n",
       "      <td>0.757323</td>\n",
       "    </tr>\n",
       "    <tr>\n",
       "      <th>2</th>\n",
       "      <td>2</td>\n",
       "      <td>57799</td>\n",
       "      <td>78230</td>\n",
       "      <td>Multifamily</td>\n",
       "      <td>0.9148</td>\n",
       "      <td>2004-02-04</td>\n",
       "      <td>2011-03-01</td>\n",
       "      <td>15500000</td>\n",
       "      <td>1160054.00</td>\n",
       "      <td>1237050.0</td>\n",
       "      <td>1.254295</td>\n",
       "      <td>0.800000</td>\n",
       "    </tr>\n",
       "    <tr>\n",
       "      <th>3</th>\n",
       "      <td>3</td>\n",
       "      <td>7750</td>\n",
       "      <td>89119</td>\n",
       "      <td>Multifamily</td>\n",
       "      <td>0.9427</td>\n",
       "      <td>2003-12-23</td>\n",
       "      <td>2014-01-01</td>\n",
       "      <td>12200000</td>\n",
       "      <td>1123545.82</td>\n",
       "      <td>909863.0</td>\n",
       "      <td>1.405656</td>\n",
       "      <td>0.797632</td>\n",
       "    </tr>\n",
       "    <tr>\n",
       "      <th>4</th>\n",
       "      <td>4</td>\n",
       "      <td>39285</td>\n",
       "      <td>10456</td>\n",
       "      <td>Multifamily</td>\n",
       "      <td>0.975</td>\n",
       "      <td>2003-12-31</td>\n",
       "      <td>2009-01-01</td>\n",
       "      <td>4600000</td>\n",
       "      <td>354811.00</td>\n",
       "      <td>355515.0</td>\n",
       "      <td>1.439771</td>\n",
       "      <td>0.783622</td>\n",
       "    </tr>\n",
       "  </tbody>\n",
       "</table>\n",
       "</div>"
      ],
      "text/plain": [
       "   Unnamed: 0 LoanNumber ZipCode PropertyType OccupancyPercent   NoteDate  \\\n",
       "0           0      57797   92056  Multifamily           0.9583 2004-02-09   \n",
       "1           1       6120   64154  Multifamily           0.8971 2003-11-10   \n",
       "2           2      57799   78230  Multifamily           0.9148 2004-02-04   \n",
       "3           3       7750   89119  Multifamily           0.9427 2003-12-23   \n",
       "4           4      39285   10456  Multifamily            0.975 2003-12-31   \n",
       "\n",
       "  MaturityDate  AppraisalValue  MostRecentNOI  FullYearNOI   U/WDSCR  \\\n",
       "0   2009-03-01        27700000     1932728.00    1520275.0  1.286974   \n",
       "1   2013-12-01        26290000     1280936.79          NaN  1.315628   \n",
       "2   2011-03-01        15500000     1160054.00    1237050.0  1.254295   \n",
       "3   2014-01-01        12200000     1123545.82     909863.0  1.405656   \n",
       "4   2009-01-01         4600000      354811.00     355515.0  1.439771   \n",
       "\n",
       "   CutoffDateLTVRatio  \n",
       "0            0.721225  \n",
       "1            0.757323  \n",
       "2            0.800000  \n",
       "3            0.797632  \n",
       "4            0.783622  "
      ]
     },
     "execution_count": 197,
     "metadata": {},
     "output_type": "execute_result"
    }
   ],
   "source": [
    "# Check first few rows of model_df DataFrame\n",
    "\n",
    "model_df.head()"
   ]
  },
  {
   "cell_type": "code",
   "execution_count": 198,
   "metadata": {},
   "outputs": [
    {
     "data": {
      "text/html": [
       "<div>\n",
       "<style>\n",
       "    .dataframe thead tr:only-child th {\n",
       "        text-align: right;\n",
       "    }\n",
       "\n",
       "    .dataframe thead th {\n",
       "        text-align: left;\n",
       "    }\n",
       "\n",
       "    .dataframe tbody tr th {\n",
       "        vertical-align: top;\n",
       "    }\n",
       "</style>\n",
       "<table border=\"1\" class=\"dataframe\">\n",
       "  <thead>\n",
       "    <tr style=\"text-align: right;\">\n",
       "      <th></th>\n",
       "      <th>LoanNumber</th>\n",
       "      <th>ZipCode</th>\n",
       "      <th>PropertyType</th>\n",
       "      <th>OccupancyPercent</th>\n",
       "      <th>NoteDate</th>\n",
       "      <th>MaturityDate</th>\n",
       "      <th>AppraisalValue</th>\n",
       "      <th>MostRecentNOI</th>\n",
       "      <th>FullYearNOI</th>\n",
       "      <th>U/WDSCR</th>\n",
       "      <th>CutoffDateLTVRatio</th>\n",
       "    </tr>\n",
       "  </thead>\n",
       "  <tbody>\n",
       "    <tr>\n",
       "      <th>0</th>\n",
       "      <td>57797</td>\n",
       "      <td>92056</td>\n",
       "      <td>Multifamily</td>\n",
       "      <td>0.9583</td>\n",
       "      <td>2004-02-09</td>\n",
       "      <td>2009-03-01</td>\n",
       "      <td>27700000</td>\n",
       "      <td>1932728.00</td>\n",
       "      <td>1520275.0</td>\n",
       "      <td>1.286974</td>\n",
       "      <td>0.721225</td>\n",
       "    </tr>\n",
       "    <tr>\n",
       "      <th>1</th>\n",
       "      <td>6120</td>\n",
       "      <td>64154</td>\n",
       "      <td>Multifamily</td>\n",
       "      <td>0.8971</td>\n",
       "      <td>2003-11-10</td>\n",
       "      <td>2013-12-01</td>\n",
       "      <td>26290000</td>\n",
       "      <td>1280936.79</td>\n",
       "      <td>NaN</td>\n",
       "      <td>1.315628</td>\n",
       "      <td>0.757323</td>\n",
       "    </tr>\n",
       "    <tr>\n",
       "      <th>2</th>\n",
       "      <td>57799</td>\n",
       "      <td>78230</td>\n",
       "      <td>Multifamily</td>\n",
       "      <td>0.9148</td>\n",
       "      <td>2004-02-04</td>\n",
       "      <td>2011-03-01</td>\n",
       "      <td>15500000</td>\n",
       "      <td>1160054.00</td>\n",
       "      <td>1237050.0</td>\n",
       "      <td>1.254295</td>\n",
       "      <td>0.800000</td>\n",
       "    </tr>\n",
       "    <tr>\n",
       "      <th>3</th>\n",
       "      <td>7750</td>\n",
       "      <td>89119</td>\n",
       "      <td>Multifamily</td>\n",
       "      <td>0.9427</td>\n",
       "      <td>2003-12-23</td>\n",
       "      <td>2014-01-01</td>\n",
       "      <td>12200000</td>\n",
       "      <td>1123545.82</td>\n",
       "      <td>909863.0</td>\n",
       "      <td>1.405656</td>\n",
       "      <td>0.797632</td>\n",
       "    </tr>\n",
       "    <tr>\n",
       "      <th>4</th>\n",
       "      <td>39285</td>\n",
       "      <td>10456</td>\n",
       "      <td>Multifamily</td>\n",
       "      <td>0.975</td>\n",
       "      <td>2003-12-31</td>\n",
       "      <td>2009-01-01</td>\n",
       "      <td>4600000</td>\n",
       "      <td>354811.00</td>\n",
       "      <td>355515.0</td>\n",
       "      <td>1.439771</td>\n",
       "      <td>0.783622</td>\n",
       "    </tr>\n",
       "  </tbody>\n",
       "</table>\n",
       "</div>"
      ],
      "text/plain": [
       "  LoanNumber ZipCode PropertyType OccupancyPercent   NoteDate MaturityDate  \\\n",
       "0      57797   92056  Multifamily           0.9583 2004-02-09   2009-03-01   \n",
       "1       6120   64154  Multifamily           0.8971 2003-11-10   2013-12-01   \n",
       "2      57799   78230  Multifamily           0.9148 2004-02-04   2011-03-01   \n",
       "3       7750   89119  Multifamily           0.9427 2003-12-23   2014-01-01   \n",
       "4      39285   10456  Multifamily            0.975 2003-12-31   2009-01-01   \n",
       "\n",
       "   AppraisalValue  MostRecentNOI  FullYearNOI   U/WDSCR  CutoffDateLTVRatio  \n",
       "0        27700000     1932728.00    1520275.0  1.286974            0.721225  \n",
       "1        26290000     1280936.79          NaN  1.315628            0.757323  \n",
       "2        15500000     1160054.00    1237050.0  1.254295            0.800000  \n",
       "3        12200000     1123545.82     909863.0  1.405656            0.797632  \n",
       "4         4600000      354811.00     355515.0  1.439771            0.783622  "
      ]
     },
     "execution_count": 198,
     "metadata": {},
     "output_type": "execute_result"
    }
   ],
   "source": [
    "# Drop redundant index column\n",
    "\n",
    "model_df = model_df.drop('Unnamed: 0', 1)\n",
    "model_df.head()"
   ]
  },
  {
   "cell_type": "code",
   "execution_count": 199,
   "metadata": {},
   "outputs": [
    {
     "data": {
      "text/html": [
       "<div>\n",
       "<style>\n",
       "    .dataframe thead tr:only-child th {\n",
       "        text-align: right;\n",
       "    }\n",
       "\n",
       "    .dataframe thead th {\n",
       "        text-align: left;\n",
       "    }\n",
       "\n",
       "    .dataframe tbody tr th {\n",
       "        vertical-align: top;\n",
       "    }\n",
       "</style>\n",
       "<table border=\"1\" class=\"dataframe\">\n",
       "  <thead>\n",
       "    <tr style=\"text-align: right;\">\n",
       "      <th></th>\n",
       "      <th>LoanNumber</th>\n",
       "      <th>ZipCode</th>\n",
       "      <th>PropertyType</th>\n",
       "      <th>OccupancyPercent</th>\n",
       "      <th>NoteDate</th>\n",
       "      <th>MaturityDate</th>\n",
       "      <th>AppraisalValue</th>\n",
       "      <th>MostRecentNOI</th>\n",
       "      <th>FullYearNOI</th>\n",
       "      <th>U/WDSCR</th>\n",
       "      <th>CutoffDateLTVRatio</th>\n",
       "      <th>LoanAge</th>\n",
       "    </tr>\n",
       "  </thead>\n",
       "  <tbody>\n",
       "    <tr>\n",
       "      <th>0</th>\n",
       "      <td>57797</td>\n",
       "      <td>92056</td>\n",
       "      <td>Multifamily</td>\n",
       "      <td>0.9583</td>\n",
       "      <td>2004-02-09</td>\n",
       "      <td>2009-03-01</td>\n",
       "      <td>27700000</td>\n",
       "      <td>1932728.00</td>\n",
       "      <td>1520275.0</td>\n",
       "      <td>1.286974</td>\n",
       "      <td>0.721225</td>\n",
       "      <td>1847 days</td>\n",
       "    </tr>\n",
       "    <tr>\n",
       "      <th>1</th>\n",
       "      <td>6120</td>\n",
       "      <td>64154</td>\n",
       "      <td>Multifamily</td>\n",
       "      <td>0.8971</td>\n",
       "      <td>2003-11-10</td>\n",
       "      <td>2013-12-01</td>\n",
       "      <td>26290000</td>\n",
       "      <td>1280936.79</td>\n",
       "      <td>NaN</td>\n",
       "      <td>1.315628</td>\n",
       "      <td>0.757323</td>\n",
       "      <td>3674 days</td>\n",
       "    </tr>\n",
       "    <tr>\n",
       "      <th>2</th>\n",
       "      <td>57799</td>\n",
       "      <td>78230</td>\n",
       "      <td>Multifamily</td>\n",
       "      <td>0.9148</td>\n",
       "      <td>2004-02-04</td>\n",
       "      <td>2011-03-01</td>\n",
       "      <td>15500000</td>\n",
       "      <td>1160054.00</td>\n",
       "      <td>1237050.0</td>\n",
       "      <td>1.254295</td>\n",
       "      <td>0.800000</td>\n",
       "      <td>2582 days</td>\n",
       "    </tr>\n",
       "    <tr>\n",
       "      <th>3</th>\n",
       "      <td>7750</td>\n",
       "      <td>89119</td>\n",
       "      <td>Multifamily</td>\n",
       "      <td>0.9427</td>\n",
       "      <td>2003-12-23</td>\n",
       "      <td>2014-01-01</td>\n",
       "      <td>12200000</td>\n",
       "      <td>1123545.82</td>\n",
       "      <td>909863.0</td>\n",
       "      <td>1.405656</td>\n",
       "      <td>0.797632</td>\n",
       "      <td>3662 days</td>\n",
       "    </tr>\n",
       "    <tr>\n",
       "      <th>4</th>\n",
       "      <td>39285</td>\n",
       "      <td>10456</td>\n",
       "      <td>Multifamily</td>\n",
       "      <td>0.975</td>\n",
       "      <td>2003-12-31</td>\n",
       "      <td>2009-01-01</td>\n",
       "      <td>4600000</td>\n",
       "      <td>354811.00</td>\n",
       "      <td>355515.0</td>\n",
       "      <td>1.439771</td>\n",
       "      <td>0.783622</td>\n",
       "      <td>1828 days</td>\n",
       "    </tr>\n",
       "  </tbody>\n",
       "</table>\n",
       "</div>"
      ],
      "text/plain": [
       "  LoanNumber ZipCode PropertyType OccupancyPercent   NoteDate MaturityDate  \\\n",
       "0      57797   92056  Multifamily           0.9583 2004-02-09   2009-03-01   \n",
       "1       6120   64154  Multifamily           0.8971 2003-11-10   2013-12-01   \n",
       "2      57799   78230  Multifamily           0.9148 2004-02-04   2011-03-01   \n",
       "3       7750   89119  Multifamily           0.9427 2003-12-23   2014-01-01   \n",
       "4      39285   10456  Multifamily            0.975 2003-12-31   2009-01-01   \n",
       "\n",
       "   AppraisalValue  MostRecentNOI  FullYearNOI   U/WDSCR  CutoffDateLTVRatio  \\\n",
       "0        27700000     1932728.00    1520275.0  1.286974            0.721225   \n",
       "1        26290000     1280936.79          NaN  1.315628            0.757323   \n",
       "2        15500000     1160054.00    1237050.0  1.254295            0.800000   \n",
       "3        12200000     1123545.82     909863.0  1.405656            0.797632   \n",
       "4         4600000      354811.00     355515.0  1.439771            0.783622   \n",
       "\n",
       "    LoanAge  \n",
       "0 1847 days  \n",
       "1 3674 days  \n",
       "2 2582 days  \n",
       "3 3662 days  \n",
       "4 1828 days  "
      ]
     },
     "execution_count": 199,
     "metadata": {},
     "output_type": "execute_result"
    }
   ],
   "source": [
    "# Add 'LoanAge' column\n",
    "\n",
    "model_df['LoanAge'] = model_df['MaturityDate'] - model_df['NoteDate']\n",
    "model_df.head()"
   ]
  },
  {
   "cell_type": "code",
   "execution_count": 15,
   "metadata": {},
   "outputs": [
    {
     "name": "stdout",
     "output_type": "stream",
     "text": [
      "<class 'pandas.core.frame.DataFrame'>\n",
      "RangeIndex: 785 entries, 0 to 784\n",
      "Data columns (total 12 columns):\n",
      "LoanNumber            785 non-null object\n",
      "ZipCode               785 non-null object\n",
      "PropertyType          785 non-null object\n",
      "OccupancyPercent      781 non-null object\n",
      "NoteDate              600 non-null datetime64[ns]\n",
      "MaturityDate          600 non-null datetime64[ns]\n",
      "AppraisalValue        785 non-null int64\n",
      "MostRecentNOI         572 non-null float64\n",
      "FullYearNOI           522 non-null float64\n",
      "U/WDSCR               600 non-null float64\n",
      "CutoffDateLTVRatio    600 non-null float64\n",
      "LoanAge               600 non-null timedelta64[ns]\n",
      "dtypes: datetime64[ns](2), float64(4), int64(1), object(4), timedelta64[ns](1)\n",
      "memory usage: 73.7+ KB\n"
     ]
    }
   ],
   "source": [
    "# Check data types in \n",
    "\n",
    "model_df.info()"
   ]
  },
  {
   "cell_type": "code",
   "execution_count": 200,
   "metadata": {},
   "outputs": [],
   "source": [
    "# Plotting function\n",
    "\n",
    "def plotData(colName):\n",
    "    \n",
    "    '''Function for plotting data in a given a column name of model_df DataFrame'''\n",
    "    \n",
    "    values = model_df[colName].dropna()\n",
    "    plot = sns.distplot(values, bins=50, color='k', kde=False)\n",
    "    \n",
    "    return plot"
   ]
  },
  {
   "cell_type": "markdown",
   "metadata": {},
   "source": [
    "---------"
   ]
  },
  {
   "cell_type": "markdown",
   "metadata": {},
   "source": [
    "### Zip code: distribution plot"
   ]
  },
  {
   "cell_type": "code",
   "execution_count": 132,
   "metadata": {},
   "outputs": [
    {
     "data": {
      "text/plain": [
       "count      760.000000\n",
       "mean     54298.526316\n",
       "std      31064.413010\n",
       "min       1020.000000\n",
       "25%      29883.250000\n",
       "50%      49853.000000\n",
       "75%      85249.500000\n",
       "max      99508.000000\n",
       "Name: ZipCode, dtype: float64"
      ]
     },
     "execution_count": 132,
     "metadata": {},
     "output_type": "execute_result"
    }
   ],
   "source": [
    "zipCode = model_df['ZipCode'][(model_df['ZipCode'] != 'Various') & \n",
    "                              (model_df['ZipCode'] != 'Multiple') &\n",
    "                              (model_df['ZipCode'] != '23059/23192')]\n",
    "zipCode = zipCode.dropna().astype(float)\n",
    "zipCode.describe()"
   ]
  },
  {
   "cell_type": "code",
   "execution_count": 204,
   "metadata": {},
   "outputs": [
    {
     "data": {
      "image/png": "[encoded data removed]",
      "text/plain": [
       "<matplotlib.figure.Figure at 0x1a16c9f550>"
      ]
     },
     "metadata": {},
     "output_type": "display_data"
    }
   ],
   "source": [
    "plot = sns.distplot(zipCode, bins=50, color='k', kde=False)\n",
    "plt.xlabel('Zip Code')\n",
    "plt.ylabel('Count')\n",
    "plt.savefig('zipCodedist.pdf', bbox_inches='tight');"
   ]
  },
  {
   "cell_type": "markdown",
   "metadata": {},
   "source": [
    "---------"
   ]
  },
  {
   "cell_type": "markdown",
   "metadata": {},
   "source": [
    "### Property Type: distribution plot"
   ]
  },
  {
   "cell_type": "code",
   "execution_count": 203,
   "metadata": {},
   "outputs": [
    {
     "data": {
      "image/png": "[encoded data removed]",
      "text/plain": [
       "<matplotlib.figure.Figure at 0x1a15fd16a0>"
      ]
     },
     "metadata": {},
     "output_type": "display_data"
    }
   ],
   "source": [
    "model_df['PropertyType'].value_counts().plot(kind='bar', color='k')\n",
    "plt.ylabel('Count')\n",
    "plt.savefig('propertyTypeDist.pdf', bbox_inches='tight');"
   ]
  },
  {
   "cell_type": "markdown",
   "metadata": {},
   "source": [
    "---------"
   ]
  },
  {
   "cell_type": "markdown",
   "metadata": {},
   "source": [
    "### Appraisal value: distribution plots"
   ]
  },
  {
   "cell_type": "code",
   "execution_count": 85,
   "metadata": {},
   "outputs": [
    {
     "data": {
      "text/plain": [
       "count    785.000000\n",
       "mean      18.527446\n",
       "std       54.803985\n",
       "min        0.450000\n",
       "25%        4.500000\n",
       "50%        7.970000\n",
       "75%       16.200000\n",
       "max      845.000000\n",
       "Name: AppraisalValue, dtype: float64"
      ]
     },
     "execution_count": 85,
     "metadata": {},
     "output_type": "execute_result"
    }
   ],
   "source": [
    "# Summary statistics of appraisal value in millions of dollars\n",
    "\n",
    "(model_df['AppraisalValue'] / 1e6).describe()"
   ]
  },
  {
   "cell_type": "code",
   "execution_count": 205,
   "metadata": {},
   "outputs": [
    {
     "data": {
      "image/png": "[encoded data removed]",
      "text/plain": [
       "<matplotlib.figure.Figure at 0x1a1611fb70>"
      ]
     },
     "metadata": {},
     "output_type": "display_data"
    }
   ],
   "source": [
    "values = (model_df['AppraisalValue'].dropna())/ 1e6\n",
    "plot = sns.distplot(values, bins=50, color='k', kde=False)\n",
    "plt.xlabel('Appraisal Value (x $1 million)')\n",
    "plt.ylabel('Count')\n",
    "plt.savefig('appraisalValueDist1.pdf', bbox_inches='tight');"
   ]
  },
  {
   "cell_type": "code",
   "execution_count": 206,
   "metadata": {},
   "outputs": [
    {
     "data": {
      "image/png": "[encoded data removed]",
      "text/plain": [
       "<matplotlib.figure.Figure at 0x1a17b61dd8>"
      ]
     },
     "metadata": {},
     "output_type": "display_data"
    }
   ],
   "source": [
    "values = (model_df['AppraisalValue'].dropna())/ 1e6\n",
    "plot = sns.distplot(values, bins=range(0,80,1), color='k', kde=False)\n",
    "plt.xlabel('Appraisal Value (x $1 million)')\n",
    "plt.ylabel('Count')\n",
    "plt.savefig('appraisalValueDist2.pdf', bbox_inches='tight');"
   ]
  },
  {
   "cell_type": "markdown",
   "metadata": {},
   "source": [
    "----------"
   ]
  },
  {
   "cell_type": "markdown",
   "metadata": {},
   "source": [
    "### Loan age: distribution plot"
   ]
  },
  {
   "cell_type": "code",
   "execution_count": 53,
   "metadata": {},
   "outputs": [
    {
     "data": {
      "text/plain": [
       "count                         600\n",
       "mean           3222 days 23:02:24\n",
       "std      866 days 23:17:30.381921\n",
       "min            1739 days 00:00:00\n",
       "25%            2566 days 18:00:00\n",
       "50%            3660 days 00:00:00\n",
       "75%            3674 days 00:00:00\n",
       "max            5505 days 00:00:00\n",
       "Name: LoanAge, dtype: object"
      ]
     },
     "execution_count": 53,
     "metadata": {},
     "output_type": "execute_result"
    }
   ],
   "source": [
    "model_df['LoanAge'].describe()"
   ]
  },
  {
   "cell_type": "code",
   "execution_count": 207,
   "metadata": {},
   "outputs": [
    {
     "data": {
      "image/png": "[encoded data removed]",
      "text/plain": [
       "<matplotlib.figure.Figure at 0x1a16ea5978>"
      ]
     },
     "metadata": {},
     "output_type": "display_data"
    }
   ],
   "source": [
    "loan_deltas = model_df['LoanAge'].dropna()\n",
    "years = loan_deltas / pd.Timedelta(days=1) / 365.25\n",
    "sns.distplot(years, color='k', kde=False)\n",
    "plt.xlabel('Loan Age (years)')\n",
    "plt.ylabel('Count')\n",
    "plt.savefig('loanAgeDist.pdf', bbox_inches='tight');"
   ]
  },
  {
   "cell_type": "markdown",
   "metadata": {},
   "source": [
    "------------"
   ]
  },
  {
   "cell_type": "markdown",
   "metadata": {},
   "source": [
    "### Occupancy Rate: distribution plot"
   ]
  },
  {
   "cell_type": "code",
   "execution_count": 154,
   "metadata": {},
   "outputs": [
    {
     "data": {
      "text/plain": [
       "count    778.000000\n",
       "mean      91.558322\n",
       "std       10.089613\n",
       "min       27.440147\n",
       "25%       88.183750\n",
       "50%       94.564291\n",
       "75%       99.607500\n",
       "max      100.000000\n",
       "Name: OccupancyPercent, dtype: float64"
      ]
     },
     "execution_count": 154,
     "metadata": {},
     "output_type": "execute_result"
    }
   ],
   "source": [
    "occPer = model_df['OccupancyPercent'][(model_df['OccupancyPercent'] != 'Various') & \n",
    "                                      (model_df['OccupancyPercent'] != '70.2% Hotel / 97.2% Office')]\n",
    "occPer = occPer.dropna().astype(float)\n",
    "(occPer*100).describe()"
   ]
  },
  {
   "cell_type": "code",
   "execution_count": 208,
   "metadata": {},
   "outputs": [
    {
     "data": {
      "image/png": "[encoded data removed]",
      "text/plain": [
       "<matplotlib.figure.Figure at 0x1a16573828>"
      ]
     },
     "metadata": {},
     "output_type": "display_data"
    }
   ],
   "source": [
    "sns.distplot(occPer*100, color='k', kde=False)\n",
    "plt.xlabel('Occupancy Rate (%)')\n",
    "plt.ylabel('Count')\n",
    "plt.savefig('occupancyRateDist.pdf', bbox_inches='tight');"
   ]
  },
  {
   "cell_type": "markdown",
   "metadata": {},
   "source": [
    "---------"
   ]
  },
  {
   "cell_type": "markdown",
   "metadata": {},
   "source": [
    "### Most recent net operating income: distribution plots"
   ]
  },
  {
   "cell_type": "code",
   "execution_count": 169,
   "metadata": {},
   "outputs": [
    {
     "data": {
      "text/plain": [
       "count    572.000000\n",
       "mean       1.596324\n",
       "std        4.602968\n",
       "min        0.000000\n",
       "25%        0.389481\n",
       "50%        0.734578\n",
       "75%        1.394307\n",
       "max       59.931759\n",
       "Name: MostRecentNOI, dtype: float64"
      ]
     },
     "execution_count": 169,
     "metadata": {},
     "output_type": "execute_result"
    }
   ],
   "source": [
    "(model_df['MostRecentNOI'].dropna() / 1e6).describe()"
   ]
  },
  {
   "cell_type": "code",
   "execution_count": 209,
   "metadata": {},
   "outputs": [
    {
     "data": {
      "image/png": "[encoded data removed]",
      "text/plain": [
       "<matplotlib.figure.Figure at 0x1a15ff5048>"
      ]
     },
     "metadata": {},
     "output_type": "display_data"
    }
   ],
   "source": [
    "values = (model_df['MostRecentNOI'].dropna())/ 1e6\n",
    "plot = sns.distplot(values, bins=50, color='k', kde=False)\n",
    "plt.xlabel('Most Recent NOI (x $1 million)')\n",
    "plt.ylabel('Count')\n",
    "plt.savefig('recentNOIDist1.pdf', bbox_inches='tight');"
   ]
  },
  {
   "cell_type": "code",
   "execution_count": 210,
   "metadata": {},
   "outputs": [
    {
     "data": {
      "image/png": "[encoded data removed]",
      "text/plain": [
       "<matplotlib.figure.Figure at 0x1a17bd7d30>"
      ]
     },
     "metadata": {},
     "output_type": "display_data"
    }
   ],
   "source": [
    "values = (model_df['MostRecentNOI'].dropna())/ 1e6\n",
    "plot = sns.distplot(values, bins=np.arange(0,5,0.1), color='k', kde=False)\n",
    "plt.xlabel('Most Recent NOI (x $1 million)')\n",
    "plt.ylabel('Count')\n",
    "plt.savefig('recentNOIDist2.pdf', bbox_inches='tight');"
   ]
  },
  {
   "cell_type": "markdown",
   "metadata": {},
   "source": [
    "---------"
   ]
  },
  {
   "cell_type": "markdown",
   "metadata": {},
   "source": [
    "### Full year net operating income: distribution plots"
   ]
  },
  {
   "cell_type": "code",
   "execution_count": 176,
   "metadata": {},
   "outputs": [
    {
     "data": {
      "text/plain": [
       "count    522.000000\n",
       "mean       1.575290\n",
       "std        4.973022\n",
       "min       -0.105979\n",
       "25%        0.357725\n",
       "50%        0.647948\n",
       "75%        1.296526\n",
       "max       66.132988\n",
       "Name: FullYearNOI, dtype: float64"
      ]
     },
     "execution_count": 176,
     "metadata": {},
     "output_type": "execute_result"
    }
   ],
   "source": [
    "(model_df['FullYearNOI'].dropna() / 1e6).describe()"
   ]
  },
  {
   "cell_type": "code",
   "execution_count": 211,
   "metadata": {},
   "outputs": [
    {
     "data": {
      "image/png": "[encoded data removed]",
      "text/plain": [
       "<matplotlib.figure.Figure at 0x1a18547358>"
      ]
     },
     "metadata": {},
     "output_type": "display_data"
    }
   ],
   "source": [
    "values = (model_df['FullYearNOI'].dropna())/ 1e6\n",
    "plot = sns.distplot(values, bins=50, color='k', kde=False)\n",
    "plt.xlabel('Full year NOI (x $1 million)')\n",
    "plt.ylabel('Count')\n",
    "plt.savefig('fullyearNOIDist1.pdf', bbox_inches='tight');"
   ]
  },
  {
   "cell_type": "code",
   "execution_count": 212,
   "metadata": {},
   "outputs": [
    {
     "data": {
      "image/png": "[encoded data removed]",
      "text/plain": [
       "<matplotlib.figure.Figure at 0x1a16104080>"
      ]
     },
     "metadata": {},
     "output_type": "display_data"
    }
   ],
   "source": [
    "values = (model_df['FullYearNOI'].dropna())/ 1e6\n",
    "plot = sns.distplot(values, bins=np.arange(0,5,0.1), color='k', kde=False)\n",
    "plt.xlabel('Full year NOI (x $1 million)')\n",
    "plt.ylabel('Count')\n",
    "plt.savefig('fullyearNOIDist2.pdf', bbox_inches='tight');"
   ]
  },
  {
   "cell_type": "markdown",
   "metadata": {},
   "source": [
    "---------"
   ]
  },
  {
   "cell_type": "markdown",
   "metadata": {},
   "source": [
    "### Debt service coverage ratio at underwriting: distribution plots"
   ]
  },
  {
   "cell_type": "code",
   "execution_count": 178,
   "metadata": {},
   "outputs": [
    {
     "data": {
      "text/plain": [
       "count    600.000000\n",
       "mean       1.494098\n",
       "std        0.456630\n",
       "min        1.126970\n",
       "25%        1.261026\n",
       "50%        1.348300\n",
       "75%        1.520382\n",
       "max        7.106962\n",
       "Name: U/WDSCR, dtype: float64"
      ]
     },
     "execution_count": 178,
     "metadata": {},
     "output_type": "execute_result"
    }
   ],
   "source": [
    "model_df['U/WDSCR'].describe()"
   ]
  },
  {
   "cell_type": "code",
   "execution_count": 213,
   "metadata": {},
   "outputs": [
    {
     "data": {
      "image/png": "[encoded data removed]",
      "text/plain": [
       "<matplotlib.figure.Figure at 0x1a1580b828>"
      ]
     },
     "metadata": {},
     "output_type": "display_data"
    }
   ],
   "source": [
    "plotData('U/WDSCR')\n",
    "plt.xlabel('DSCR at underwriting')\n",
    "plt.ylabel('Count')\n",
    "plt.savefig('dscrDist1.pdf', bbox_inches='tight');"
   ]
  },
  {
   "cell_type": "code",
   "execution_count": 214,
   "metadata": {},
   "outputs": [
    {
     "data": {
      "image/png": "[encoded data removed]",
      "text/plain": [
       "<matplotlib.figure.Figure at 0x1a16c7e748>"
      ]
     },
     "metadata": {},
     "output_type": "display_data"
    }
   ],
   "source": [
    "values = model_df['U/WDSCR'].dropna()\n",
    "plot = sns.distplot(values, bins=np.arange(1,3,0.05), color='k', kde=False)\n",
    "plt.xlabel('DSCR at underwriting')\n",
    "plt.ylabel('Count')\n",
    "plt.savefig('dscrDist2.pdf', bbox_inches='tight');"
   ]
  },
  {
   "cell_type": "markdown",
   "metadata": {},
   "source": [
    "---------"
   ]
  },
  {
   "cell_type": "markdown",
   "metadata": {},
   "source": [
    "### Loan-to-value ratio at cutoff date: distribution plot"
   ]
  },
  {
   "cell_type": "code",
   "execution_count": 180,
   "metadata": {},
   "outputs": [
    {
     "data": {
      "text/plain": [
       "count    600.000000\n",
       "mean       0.700636\n",
       "std        0.103797\n",
       "min        0.142487\n",
       "25%        0.654407\n",
       "50%        0.736981\n",
       "75%        0.781694\n",
       "max        0.855409\n",
       "Name: CutoffDateLTVRatio, dtype: float64"
      ]
     },
     "execution_count": 180,
     "metadata": {},
     "output_type": "execute_result"
    }
   ],
   "source": [
    "model_df['CutoffDateLTVRatio'].describe()"
   ]
  },
  {
   "cell_type": "code",
   "execution_count": 215,
   "metadata": {},
   "outputs": [
    {
     "data": {
      "image/png": "[encoded data removed]",
      "text/plain": [
       "<matplotlib.figure.Figure at 0x1a18554ba8>"
      ]
     },
     "metadata": {},
     "output_type": "display_data"
    }
   ],
   "source": [
    "plotData('CutoffDateLTVRatio')\n",
    "plt.xlabel('Cutoff date LTV ratio')\n",
    "plt.ylabel('Count')\n",
    "plt.savefig('ltvDist.pdf', bbox_inches='tight');"
   ]
  },
  {
   "cell_type": "markdown",
   "metadata": {},
   "source": [
    "---------"
   ]
  },
  {
   "cell_type": "markdown",
   "metadata": {},
   "source": [
    "### Correlation matrix"
   ]
  },
  {
   "cell_type": "code",
   "execution_count": 217,
   "metadata": {},
   "outputs": [
    {
     "data": {
      "text/html": [
       "<div>\n",
       "<style>\n",
       "    .dataframe thead tr:only-child th {\n",
       "        text-align: right;\n",
       "    }\n",
       "\n",
       "    .dataframe thead th {\n",
       "        text-align: left;\n",
       "    }\n",
       "\n",
       "    .dataframe tbody tr th {\n",
       "        vertical-align: top;\n",
       "    }\n",
       "</style>\n",
       "<table border=\"1\" class=\"dataframe\">\n",
       "  <thead>\n",
       "    <tr style=\"text-align: right;\">\n",
       "      <th></th>\n",
       "      <th>AppraisalValue</th>\n",
       "      <th>MostRecentNOI</th>\n",
       "      <th>FullYearNOI</th>\n",
       "      <th>U/WDSCR</th>\n",
       "      <th>CutoffDateLTVRatio</th>\n",
       "    </tr>\n",
       "  </thead>\n",
       "  <tbody>\n",
       "    <tr>\n",
       "      <th>AppraisalValue</th>\n",
       "      <td>1.000000</td>\n",
       "      <td>0.990950</td>\n",
       "      <td>0.993109</td>\n",
       "      <td>0.234146</td>\n",
       "      <td>-0.248727</td>\n",
       "    </tr>\n",
       "    <tr>\n",
       "      <th>MostRecentNOI</th>\n",
       "      <td>0.990950</td>\n",
       "      <td>1.000000</td>\n",
       "      <td>0.994326</td>\n",
       "      <td>0.300290</td>\n",
       "      <td>-0.265276</td>\n",
       "    </tr>\n",
       "    <tr>\n",
       "      <th>FullYearNOI</th>\n",
       "      <td>0.993109</td>\n",
       "      <td>0.994326</td>\n",
       "      <td>1.000000</td>\n",
       "      <td>0.242528</td>\n",
       "      <td>-0.246359</td>\n",
       "    </tr>\n",
       "    <tr>\n",
       "      <th>U/WDSCR</th>\n",
       "      <td>0.234146</td>\n",
       "      <td>0.300290</td>\n",
       "      <td>0.242528</td>\n",
       "      <td>1.000000</td>\n",
       "      <td>-0.673234</td>\n",
       "    </tr>\n",
       "    <tr>\n",
       "      <th>CutoffDateLTVRatio</th>\n",
       "      <td>-0.248727</td>\n",
       "      <td>-0.265276</td>\n",
       "      <td>-0.246359</td>\n",
       "      <td>-0.673234</td>\n",
       "      <td>1.000000</td>\n",
       "    </tr>\n",
       "  </tbody>\n",
       "</table>\n",
       "</div>"
      ],
      "text/plain": [
       "                    AppraisalValue  MostRecentNOI  FullYearNOI   U/WDSCR  \\\n",
       "AppraisalValue            1.000000       0.990950     0.993109  0.234146   \n",
       "MostRecentNOI             0.990950       1.000000     0.994326  0.300290   \n",
       "FullYearNOI               0.993109       0.994326     1.000000  0.242528   \n",
       "U/WDSCR                   0.234146       0.300290     0.242528  1.000000   \n",
       "CutoffDateLTVRatio       -0.248727      -0.265276    -0.246359 -0.673234   \n",
       "\n",
       "                    CutoffDateLTVRatio  \n",
       "AppraisalValue               -0.248727  \n",
       "MostRecentNOI                -0.265276  \n",
       "FullYearNOI                  -0.246359  \n",
       "U/WDSCR                      -0.673234  \n",
       "CutoffDateLTVRatio            1.000000  "
      ]
     },
     "execution_count": 217,
     "metadata": {},
     "output_type": "execute_result"
    }
   ],
   "source": [
    "model_df.corr()"
   ]
  },
  {
   "cell_type": "code",
   "execution_count": 221,
   "metadata": {},
   "outputs": [
    {
     "data": {
      "image/png": "[encoded data removed]",
      "text/plain": [
       "<matplotlib.figure.Figure at 0x1a1626d240>"
      ]
     },
     "metadata": {},
     "output_type": "display_data"
    }
   ],
   "source": [
    "# Make DataFrame\n",
    "\n",
    "# Compute the correlation matrix\n",
    "corr = model_df.corr()\n",
    "\n",
    "# Generate a mask for the upper triangle\n",
    "mask = np.zeros_like(corr, dtype=np.bool)\n",
    "mask[np.triu_indices_from(mask)] = True\n",
    "\n",
    "# Set up the matplotlib figure\n",
    "f, ax = plt.subplots(figsize=(11, 9))\n",
    "\n",
    "# Generate a custom diverging colormap\n",
    "cmap = sns.diverging_palette(220, 10, as_cmap=True)\n",
    "\n",
    "# Draw the heatmap with the mask and correct aspect ratio\n",
    "sns.heatmap(corr, mask=mask, cmap=cmap, vmax=1, center=0,\n",
    "            square=True, linewidths=.5, cbar_kws={\"shrink\": .5})\n",
    "plt.savefig('corrMatrix.pdf', bbox_inches='tight');"
   ]
  }
 ],
 "metadata": {
  "kernelspec": {
   "display_name": "Python 3",
   "language": "python",
   "name": "python3"
  },
  "language_info": {
   "codemirror_mode": {
    "name": "ipython",
    "version": 3
   },
   "file_extension": ".py",
   "mimetype": "text/x-python",
   "name": "python",
   "nbconvert_exporter": "python",
   "pygments_lexer": "ipython3",
   "version": "3.6.3"
  }
 },
 "nbformat": 4,
 "nbformat_minor": 2
}
